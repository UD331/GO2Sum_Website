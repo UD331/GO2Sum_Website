{
 "cells": [
  {
   "cell_type": "code",
   "execution_count": 27,
   "id": "33653934",
   "metadata": {},
   "outputs": [],
   "source": [
    "import pandas as pd\n",
    "import numpy as np\n",
    "import matplotlib.pyplot as plt\n",
    "import seaborn as sns"
   ]
  },
  {
   "cell_type": "code",
   "execution_count": 28,
   "id": "b9ef058c",
   "metadata": {},
   "outputs": [],
   "source": [
    "file_function = 'Function_embedding_score.tab'\n",
    "file_pathway = 'Pathway_embedding_score.tab'\n",
    "file_subunit = 'Subunit_embedding_score.tab'"
   ]
  },
  {
   "cell_type": "code",
   "execution_count": 29,
   "id": "e93c64de",
   "metadata": {},
   "outputs": [],
   "source": [
    "func = pd.read_csv(file_function,sep='\\t')\n",
    "pathway = pd.read_csv(file_pathway,sep='\\t')\n",
    "sub = pd.read_csv(file_subunit,sep='\\t')"
   ]
  },
  {
   "cell_type": "code",
   "execution_count": 30,
   "id": "96eb95ca",
   "metadata": {},
   "outputs": [
    {
     "name": "stdout",
     "output_type": "stream",
     "text": [
      "    entry  model(BERT)  T5(BERT)  model(MINILM)  T5(MINILM)  \\\n",
      "0  P17243     1.000000  0.410771       1.000000    0.357009   \n",
      "1  Q57D38     0.825775  0.654481       0.628259    0.388155   \n",
      "2  Q92LF7     1.000000  0.354301       1.000000    0.061333   \n",
      "3  Q6FR44     0.641822  0.546346       0.310208    0.395500   \n",
      "4  Q6Y8A2     1.000000  0.440168       1.000000    0.330730   \n",
      "\n",
      "   model(BioSentVec)  T5(BioSentVec)  \n",
      "0           1.000000        0.307028  \n",
      "1           0.517756        0.424543  \n",
      "2           1.000000        0.175420  \n",
      "3           0.512598        0.415345  \n",
      "4           1.000000        0.477409  \n"
     ]
    }
   ],
   "source": [
    "print(func.head(5))\n"
   ]
  },
  {
   "cell_type": "markdown",
   "id": "5044050f",
   "metadata": {},
   "source": [
    "## BERT based embedding scores"
   ]
  },
  {
   "cell_type": "code",
   "execution_count": 31,
   "id": "39d44131",
   "metadata": {},
   "outputs": [
    {
     "name": "stdout",
     "output_type": "stream",
     "text": [
      "Pecentage BERT score our model better than T5 for Function CC\n",
      "Total number of entries in Function CC test set 9730\n",
      "Fraction of entries where Function CC is better 9243\n",
      "The Percentage is as followed 94.99486125385405\n"
     ]
    }
   ],
   "source": [
    "print('Pecentage BERT score our model better than T5 for Function CC')\n",
    "df_func = np.where(func['model(BERT)']>=func['T5(BERT)'])\n",
    "\n",
    "total = len(func)\n",
    "value = len(df_func[0])\n",
    "percentage = value * 100 / total\n",
    "print(f'Total number of entries in Function CC test set {total}')\n",
    "print(f'Fraction of entries where Function CC is better {value}')\n",
    "print(f'The Percentage is as followed {percentage}')"
   ]
  },
  {
   "cell_type": "code",
   "execution_count": 32,
   "id": "1f7de869",
   "metadata": {},
   "outputs": [
    {
     "name": "stdout",
     "output_type": "stream",
     "text": [
      "Pecentage BERT score our model better than T5 For Pathway\n",
      "Total number of entries in Pathway test set 1457\n",
      "Fraction of entries where Pathway is better 1446\n",
      "The Percentage is as followed 99.24502402196293\n"
     ]
    }
   ],
   "source": [
    "print('Pecentage BERT score our model better than T5 For Pathway')\n",
    "df_pathway = np.where(pathway['model(BERT)']>=pathway['T5(BERT)'])\n",
    "\n",
    "total = len(pathway)\n",
    "value = len(df_pathway[0])\n",
    "percentage = value * 100 / total\n",
    "print(f'Total number of entries in Pathway test set {total}')\n",
    "print(f'Fraction of entries where Pathway is better {value}')\n",
    "print(f'The Percentage is as followed {percentage}')"
   ]
  },
  {
   "cell_type": "code",
   "execution_count": 33,
   "id": "f03afe07",
   "metadata": {},
   "outputs": [
    {
     "name": "stdout",
     "output_type": "stream",
     "text": [
      "Pecentage BERT score our model better than T5 For Subunit\n",
      "Total number of entries in Subunit test set 6206\n",
      "Fraction of entries where Subunit is better 5585\n",
      "The Percentage is as followed 89.99355462455688\n"
     ]
    }
   ],
   "source": [
    "print('Pecentage BERT score our model better than T5 For Subunit')\n",
    "df_sub = np.where(sub['model(BERT)']>=sub['T5(BERT)'])\n",
    "\n",
    "total = len(sub)\n",
    "value = len(df_sub[0])\n",
    "percentage = value * 100 / total\n",
    "print(f'Total number of entries in Subunit test set {total}')\n",
    "print(f'Fraction of entries where Subunit is better {value}')\n",
    "print(f'The Percentage is as followed {percentage}')"
   ]
  },
  {
   "cell_type": "markdown",
   "id": "15f1a80a",
   "metadata": {},
   "source": [
    "## MiniLM Based scores analysis"
   ]
  },
  {
   "cell_type": "code",
   "execution_count": 34,
   "id": "1cab08cc",
   "metadata": {},
   "outputs": [
    {
     "name": "stdout",
     "output_type": "stream",
     "text": [
      "Pecentage MINILM score our model better than T5 for Function CC\n",
      "Total number of entries in Function CC test set 9730\n",
      "Fraction of entries where Function CC is better 9208\n",
      "The Percentage is as followed 94.63514902363823\n"
     ]
    }
   ],
   "source": [
    "print('Pecentage MINILM score our model better than T5 for Function CC')\n",
    "df_func = np.where(func['model(MINILM)']>=func['T5(MINILM)'])\n",
    "\n",
    "total = len(func)\n",
    "value = len(df_func[0])\n",
    "percentage = value * 100 / total\n",
    "print(f'Total number of entries in Function CC test set {total}')\n",
    "print(f'Fraction of entries where Function CC is better {value}')\n",
    "print(f'The Percentage is as followed {percentage}')"
   ]
  },
  {
   "cell_type": "code",
   "execution_count": 35,
   "id": "397ea274",
   "metadata": {},
   "outputs": [
    {
     "name": "stdout",
     "output_type": "stream",
     "text": [
      "Pecentage MINILM score our model better than T5 For Pathway\n",
      "Total number of entries in Pathway test set 1457\n",
      "Fraction of entries where Pathway is better 1451\n",
      "The Percentage is as followed 99.5881949210707\n"
     ]
    }
   ],
   "source": [
    "print('Pecentage MINILM score our model better than T5 For Pathway')\n",
    "df_pathway = np.where(pathway['model(MINILM)']>=pathway['T5(MINILM)'])\n",
    "\n",
    "total = len(pathway)\n",
    "value = len(df_pathway[0])\n",
    "percentage = value * 100 / total\n",
    "print(f'Total number of entries in Pathway test set {total}')\n",
    "print(f'Fraction of entries where Pathway is better {value}')\n",
    "print(f'The Percentage is as followed {percentage}')"
   ]
  },
  {
   "cell_type": "code",
   "execution_count": 36,
   "id": "c232ea0b",
   "metadata": {},
   "outputs": [
    {
     "name": "stdout",
     "output_type": "stream",
     "text": [
      "Pecentage MINILM score our model better than T5 For Subunit\n",
      "Total number of entries in Subunit test set 6206\n",
      "Fraction of entries where Subunit is better 5727\n",
      "The Percentage is as followed 92.28166290686433\n"
     ]
    }
   ],
   "source": [
    "print('Pecentage MINILM score our model better than T5 For Subunit')\n",
    "df_sub = np.where(sub['model(MINILM)']>=sub['T5(MINILM)'])\n",
    "\n",
    "total = len(sub)\n",
    "value = len(df_sub[0])\n",
    "percentage = value * 100 / total\n",
    "print(f'Total number of entries in Subunit test set {total}')\n",
    "print(f'Fraction of entries where Subunit is better {value}')\n",
    "print(f'The Percentage is as followed {percentage}')"
   ]
  },
  {
   "cell_type": "markdown",
   "id": "1390ee91",
   "metadata": {},
   "source": [
    "## BioSentVecBased Scores"
   ]
  },
  {
   "cell_type": "code",
   "execution_count": 37,
   "id": "7985b07e",
   "metadata": {},
   "outputs": [
    {
     "name": "stdout",
     "output_type": "stream",
     "text": [
      "Pecentage BioSentVec score our model better than T5 for Function CC\n",
      "Total number of entries in Function CC test set 9730\n",
      "Fraction of entries where Function CC is better 9412\n",
      "The Percentage is as followed 96.7317574511819\n"
     ]
    }
   ],
   "source": [
    "print('Pecentage BioSentVec score our model better than T5 for Function CC')\n",
    "df_func = np.where(func['model(BioSentVec)']>=func['T5(BioSentVec)'])\n",
    "\n",
    "total = len(func)\n",
    "value = len(df_func[0])\n",
    "percentage = value * 100 / total\n",
    "print(f'Total number of entries in Function CC test set {total}')\n",
    "print(f'Fraction of entries where Function CC is better {value}')\n",
    "print(f'The Percentage is as followed {percentage}')"
   ]
  },
  {
   "cell_type": "code",
   "execution_count": 38,
   "id": "42ee0b42",
   "metadata": {},
   "outputs": [
    {
     "name": "stdout",
     "output_type": "stream",
     "text": [
      "Pecentage BioSentVec score our model better than T5 For Pathway\n",
      "Total number of entries in Pathway test set 1457\n",
      "Fraction of entries where Pathway is better 1445\n",
      "The Percentage is as followed 99.17638984214139\n"
     ]
    }
   ],
   "source": [
    "print('Pecentage BioSentVec score our model better than T5 For Pathway')\n",
    "df_pathway = np.where(pathway['model(BioSentVec)']>=pathway['T5(BioSentVec)'])\n",
    "\n",
    "total = len(pathway)\n",
    "value = len(df_pathway[0])\n",
    "percentage = value * 100 / total\n",
    "print(f'Total number of entries in Pathway test set {total}')\n",
    "print(f'Fraction of entries where Pathway is better {value}')\n",
    "print(f'The Percentage is as followed {percentage}')"
   ]
  },
  {
   "cell_type": "code",
   "execution_count": 39,
   "id": "e7806ccd",
   "metadata": {},
   "outputs": [
    {
     "name": "stdout",
     "output_type": "stream",
     "text": [
      "Pecentage BioSentVec score our model better than T5 For Subunit\n",
      "Total number of entries in Subunit test set 6206\n",
      "Fraction of entries where Subunit is better 6021\n",
      "The Percentage is as followed 97.0190138575572\n"
     ]
    }
   ],
   "source": [
    "print('Pecentage BioSentVec score our model better than T5 For Subunit')\n",
    "df_sub = np.where(sub['model(BioSentVec)']>=sub['T5(BioSentVec)'])\n",
    "\n",
    "total = len(sub)\n",
    "value = len(df_sub[0])\n",
    "percentage = value * 100 / total\n",
    "print(f'Total number of entries in Subunit test set {total}')\n",
    "print(f'Fraction of entries where Subunit is better {value}')\n",
    "print(f'The Percentage is as followed {percentage}')"
   ]
  },
  {
   "cell_type": "markdown",
   "id": "d5bfa25e",
   "metadata": {},
   "source": [
    "### Correlation"
   ]
  },
  {
   "cell_type": "code",
   "execution_count": 43,
   "id": "b6c2610b",
   "metadata": {},
   "outputs": [
    {
     "name": "stdout",
     "output_type": "stream",
     "text": [
      "Correlation between various embedding based scores for Function CC\n",
      "Correlation between BERT and MiniLM\n",
      "Pearson correlation is 0.8075229040737487\n",
      "****************************************************************************************************\n",
      "Correlation between BERT and BioSentVec\n",
      "Pearson correlation is 0.8396595994982969\n",
      "****************************************************************************************************\n",
      "Correlation between MiniLM and BioSentVec\n",
      "Pearson correlation is 0.8962315237985782\n",
      "****************************************************************************************************\n"
     ]
    }
   ],
   "source": [
    "print('Correlation between various embedding based scores for Function CC')\n",
    "print('Correlation between BERT and MiniLM')\n",
    "cor_bert_mini= func['model(BERT)'].corr(func['model(MINILM)'], method='pearson')\n",
    "print(f'Pearson correlation is {cor_bert_mini}')\n",
    "print(\"*\"*100)\n",
    "print('Correlation between BERT and BioSentVec')\n",
    "cor_bert_biosent= func['model(BERT)'].corr(func['model(BioSentVec)'], method='pearson')\n",
    "print(f'Pearson correlation is {cor_bert_biosent}')\n",
    "print(\"*\"*100)\n",
    "print('Correlation between MiniLM and BioSentVec')\n",
    "cor_biosent_mini= func['model(BioSentVec)'].corr(func['model(MINILM)'], method='pearson')\n",
    "print(f'Pearson correlation is {cor_biosent_mini}')\n",
    "print(\"*\"*100)"
   ]
  },
  {
   "cell_type": "code",
   "execution_count": 44,
   "id": "43b9820f",
   "metadata": {},
   "outputs": [
    {
     "name": "stdout",
     "output_type": "stream",
     "text": [
      "Correlation between various embedding based scores for Subunit\n",
      "Correlation between BERT and MiniLM\n",
      "Pearson correlation is 0.884590440107516\n",
      "****************************************************************************************************\n",
      "Correlation between BERT and BioSentVec\n",
      "Pearson correlation is 0.8245729329500424\n",
      "****************************************************************************************************\n",
      "Correlation between MiniLM and BioSentVec\n",
      "Pearson correlation is 0.8620760861825132\n",
      "****************************************************************************************************\n"
     ]
    }
   ],
   "source": [
    "print('Correlation between various embedding based scores for Subunit')\n",
    "print('Correlation between BERT and MiniLM')\n",
    "cor_bert_mini= sub['model(BERT)'].corr(sub['model(MINILM)'], method='pearson')\n",
    "print(f'Pearson correlation is {cor_bert_mini}')\n",
    "print(\"*\"*100)\n",
    "print('Correlation between BERT and BioSentVec')\n",
    "cor_bert_biosent= sub['model(BERT)'].corr(sub['model(BioSentVec)'], method='pearson')\n",
    "print(f'Pearson correlation is {cor_bert_biosent}')\n",
    "print(\"*\"*100)\n",
    "print('Correlation between MiniLM and BioSentVec')\n",
    "cor_biosent_mini= sub['model(BioSentVec)'].corr(sub['model(MINILM)'], method='pearson')\n",
    "print(f'Pearson correlation is {cor_biosent_mini}')\n",
    "print(\"*\"*100)"
   ]
  },
  {
   "cell_type": "code",
   "execution_count": 45,
   "id": "e1b70fd7",
   "metadata": {},
   "outputs": [
    {
     "name": "stdout",
     "output_type": "stream",
     "text": [
      "Correlation between various embedding based scores for Pathway\n",
      "Correlation between BERT and MiniLM\n",
      "Pearson correlation is 0.7939975267448172\n",
      "****************************************************************************************************\n",
      "Correlation between BERT and BioSentVec\n",
      "Pearson correlation is 0.8283638600725471\n",
      "****************************************************************************************************\n",
      "Correlation between MiniLM and BioSentVec\n",
      "Pearson correlation is 0.8322735487507229\n",
      "****************************************************************************************************\n"
     ]
    }
   ],
   "source": [
    "print('Correlation between various embedding based scores for Pathway')\n",
    "print('Correlation between BERT and MiniLM')\n",
    "cor_bert_mini= pathway['model(BERT)'].corr(pathway['model(MINILM)'], method='pearson')\n",
    "print(f'Pearson correlation is {cor_bert_mini}')\n",
    "print(\"*\"*100)\n",
    "print('Correlation between BERT and BioSentVec')\n",
    "cor_bert_biosent= pathway['model(BERT)'].corr(pathway['model(BioSentVec)'], method='pearson')\n",
    "print(f'Pearson correlation is {cor_bert_biosent}')\n",
    "print(\"*\"*100)\n",
    "print('Correlation between MiniLM and BioSentVec')\n",
    "cor_biosent_mini= pathway['model(BioSentVec)'].corr(pathway['model(MINILM)'], method='pearson')\n",
    "print(f'Pearson correlation is {cor_biosent_mini}')\n",
    "print(\"*\"*100)"
   ]
  },
  {
   "cell_type": "markdown",
   "id": "ba249017",
   "metadata": {},
   "source": [
    "### Comparision between Relative scores"
   ]
  },
  {
   "cell_type": "markdown",
   "id": "c7cda373",
   "metadata": {},
   "source": [
    "## WMS"
   ]
  },
  {
   "cell_type": "markdown",
   "id": "f1817892",
   "metadata": {},
   "source": [
    "### WMS Files"
   ]
  },
  {
   "cell_type": "code",
   "execution_count": 14,
   "id": "7234d24f",
   "metadata": {},
   "outputs": [],
   "source": [
    "file_function = 'Function_glove_wms.out'\n",
    "file_pathway = 'Pathway_glove_wms.out'\n",
    "file_subunit = 'Subunit_glove_wms.out'\n",
    "func = pd.read_csv(file_function,sep='\\t')\n",
    "pathway = pd.read_csv(file_pathway,sep='\\t')\n",
    "sub = pd.read_csv(file_subunit,sep='\\t')"
   ]
  },
  {
   "cell_type": "code",
   "execution_count": 15,
   "id": "30ffb8cf",
   "metadata": {},
   "outputs": [
    {
     "name": "stdout",
     "output_type": "stream",
     "text": [
      "Pecentage WMS score our model better than T5 for Function CC\n",
      "Total number of entries in Function CC test set 9730\n",
      "Fraction of entries where Function CC is better 9479\n",
      "The Percentage is as followed 97.42034943473793\n"
     ]
    }
   ],
   "source": [
    "print('Pecentage WMS score our model better than T5 for Function CC')\n",
    "df_func = np.where(func['model']>=func['T5'])\n",
    "\n",
    "total = len(func)\n",
    "value = len(df_func[0])\n",
    "percentage = value * 100 / total\n",
    "print(f'Total number of entries in Function CC test set {total}')\n",
    "print(f'Fraction of entries where Function CC is better {value}')\n",
    "print(f'The Percentage is as followed {percentage}')"
   ]
  },
  {
   "cell_type": "code",
   "execution_count": 16,
   "id": "5a733391",
   "metadata": {},
   "outputs": [
    {
     "name": "stdout",
     "output_type": "stream",
     "text": [
      "Pecentage WMS score our model better than T5 For Pathway\n",
      "Total number of entries in Pathway test set 1457\n",
      "Fraction of entries where Pathway is better 1444\n",
      "The Percentage is as followed 99.10775566231983\n"
     ]
    }
   ],
   "source": [
    "print('Pecentage WMS score our model better than T5 For Pathway')\n",
    "df_pathway = np.where(pathway['model']>=pathway['T5'])\n",
    "\n",
    "total = len(pathway)\n",
    "value = len(df_pathway[0])\n",
    "percentage = value * 100 / total\n",
    "print(f'Total number of entries in Pathway test set {total}')\n",
    "print(f'Fraction of entries where Pathway is better {value}')\n",
    "print(f'The Percentage is as followed {percentage}')"
   ]
  },
  {
   "cell_type": "code",
   "execution_count": 17,
   "id": "b755c2b8",
   "metadata": {},
   "outputs": [
    {
     "name": "stdout",
     "output_type": "stream",
     "text": [
      "Pecentage WMS score our model better than T5 For Subunit\n",
      "Total number of entries in Subunit test set 6206\n",
      "Fraction of entries where Subunit is better 5955\n",
      "The Percentage is as followed 95.95552690944247\n"
     ]
    }
   ],
   "source": [
    "print('Pecentage WMS score our model better than T5 For Subunit')\n",
    "df_sub = np.where(sub['model']>=sub['T5'])\n",
    "\n",
    "total = len(sub)\n",
    "value = len(df_sub[0])\n",
    "percentage = value * 100 / total\n",
    "print(f'Total number of entries in Subunit test set {total}')\n",
    "print(f'Fraction of entries where Subunit is better {value}')\n",
    "print(f'The Percentage is as followed {percentage}')"
   ]
  },
  {
   "cell_type": "markdown",
   "id": "5a9386b7",
   "metadata": {},
   "source": [
    "## SMS Scores"
   ]
  },
  {
   "cell_type": "code",
   "execution_count": 46,
   "id": "e9856283",
   "metadata": {},
   "outputs": [],
   "source": [
    "file_function = 'Function_glove_sms.out'\n",
    "file_pathway = 'Pathway_glove_sms.out'\n",
    "file_subunit = 'Subunit_glove_sms.out'\n",
    "func = pd.read_csv(file_function,sep='\\t')\n",
    "pathway = pd.read_csv(file_pathway,sep='\\t')\n",
    "sub = pd.read_csv(file_subunit,sep='\\t')"
   ]
  },
  {
   "cell_type": "code",
   "execution_count": 47,
   "id": "44d45e0c",
   "metadata": {},
   "outputs": [
    {
     "name": "stdout",
     "output_type": "stream",
     "text": [
      "Pecentage SMS score our model better than T5 for Function CC\n",
      "Total number of entries in Function CC test set 9730\n",
      "Fraction of entries where Function CC is better 9589\n",
      "The Percentage is as followed 98.55087358684482\n"
     ]
    }
   ],
   "source": [
    "print('Pecentage SMS score our model better than T5 for Function CC')\n",
    "df_func = np.where(func['model']>=func['T5'])\n",
    "\n",
    "total = len(func)\n",
    "value = len(df_func[0])\n",
    "percentage = value * 100 / total\n",
    "print(f'Total number of entries in Function CC test set {total}')\n",
    "print(f'Fraction of entries where Function CC is better {value}')\n",
    "print(f'The Percentage is as followed {percentage}')"
   ]
  },
  {
   "cell_type": "code",
   "execution_count": 48,
   "id": "369fc355",
   "metadata": {},
   "outputs": [
    {
     "name": "stdout",
     "output_type": "stream",
     "text": [
      "Pecentage SMS score our model better than T5 For Pathway\n",
      "Total number of entries in Pathway test set 1457\n",
      "Fraction of entries where Pathway is better 1448\n",
      "The Percentage is as followed 99.38229238160604\n"
     ]
    }
   ],
   "source": [
    "print('Pecentage SMS score our model better than T5 For Pathway')\n",
    "df_pathway = np.where(pathway['model']>=pathway['T5'])\n",
    "\n",
    "total = len(pathway)\n",
    "value = len(df_pathway[0])\n",
    "percentage = value * 100 / total\n",
    "print(f'Total number of entries in Pathway test set {total}')\n",
    "print(f'Fraction of entries where Pathway is better {value}')\n",
    "print(f'The Percentage is as followed {percentage}')"
   ]
  },
  {
   "cell_type": "code",
   "execution_count": 49,
   "id": "3432275c",
   "metadata": {},
   "outputs": [
    {
     "name": "stdout",
     "output_type": "stream",
     "text": [
      "Pecentage SMS score our model better than T5 For Subunit\n",
      "Total number of entries in Subunit test set 6206\n",
      "Fraction of entries where Subunit is better 5935\n",
      "The Percentage is as followed 95.6332581372865\n"
     ]
    }
   ],
   "source": [
    "print('Pecentage SMS score our model better than T5 For Subunit')\n",
    "df_sub = np.where(sub['model']>=sub['T5'])\n",
    "\n",
    "total = len(sub)\n",
    "value = len(df_sub[0])\n",
    "percentage = value * 100 / total\n",
    "print(f'Total number of entries in Subunit test set {total}')\n",
    "print(f'Fraction of entries where Subunit is better {value}')\n",
    "print(f'The Percentage is as followed {percentage}')"
   ]
  },
  {
   "cell_type": "markdown",
   "id": "62854b40",
   "metadata": {},
   "source": [
    "## S+WMS"
   ]
  },
  {
   "cell_type": "code",
   "execution_count": 50,
   "id": "26ad048f",
   "metadata": {},
   "outputs": [],
   "source": [
    "file_function = 'Function_glove_s+wms.out'\n",
    "file_pathway = 'Pathway_glove_s+wms.out'\n",
    "file_subunit = 'Subunit_glove_s+wms.out'\n",
    "func = pd.read_csv(file_function,sep='\\t')\n",
    "pathway = pd.read_csv(file_pathway,sep='\\t')\n",
    "sub = pd.read_csv(file_subunit,sep='\\t')"
   ]
  },
  {
   "cell_type": "code",
   "execution_count": 51,
   "id": "315b70b2",
   "metadata": {},
   "outputs": [
    {
     "name": "stdout",
     "output_type": "stream",
     "text": [
      "Pecentage S+WMS score our model better than T5 for Function CC\n",
      "Total number of entries in Function CC test set 9730\n",
      "Fraction of entries where Function CC is better 9592\n",
      "The Percentage is as followed 98.58170606372045\n"
     ]
    }
   ],
   "source": [
    "print('Pecentage S+WMS score our model better than T5 for Function CC')\n",
    "df_func = np.where(func['model']>=func['T5'])\n",
    "\n",
    "total = len(func)\n",
    "value = len(df_func[0])\n",
    "percentage = value * 100 / total\n",
    "print(f'Total number of entries in Function CC test set {total}')\n",
    "print(f'Fraction of entries where Function CC is better {value}')\n",
    "print(f'The Percentage is as followed {percentage}')"
   ]
  },
  {
   "cell_type": "code",
   "execution_count": 53,
   "id": "0938ba16",
   "metadata": {},
   "outputs": [
    {
     "name": "stdout",
     "output_type": "stream",
     "text": [
      "Pecentage S+SMS score our model better than T5 For Pathway\n",
      "Total number of entries in Pathway test set 1457\n",
      "Fraction of entries where Pathway is better 1445\n",
      "The Percentage is as followed 99.17638984214139\n"
     ]
    }
   ],
   "source": [
    "print('Pecentage S+SMS score our model better than T5 For Pathway')\n",
    "df_pathway = np.where(pathway['model']>=pathway['T5'])\n",
    "\n",
    "total = len(pathway)\n",
    "value = len(df_pathway[0])\n",
    "percentage = value * 100 / total\n",
    "print(f'Total number of entries in Pathway test set {total}')\n",
    "print(f'Fraction of entries where Pathway is better {value}')\n",
    "print(f'The Percentage is as followed {percentage}')"
   ]
  },
  {
   "cell_type": "code",
   "execution_count": 25,
   "id": "67b5cb00",
   "metadata": {},
   "outputs": [
    {
     "name": "stdout",
     "output_type": "stream",
     "text": [
      "Pecentage S+WMS score our model better than T5 For Subunit\n",
      "Total number of entries in Subunit test set 6206\n",
      "Fraction of entries where Subunit is better 5975\n",
      "The Percentage is as followed 96.27779568159845\n"
     ]
    }
   ],
   "source": [
    "print('Pecentage S+WMS score our model better than T5 For Subunit')\n",
    "df_sub = np.where(sub['model']>=sub['T5'])\n",
    "\n",
    "total = len(sub)\n",
    "value = len(df_sub[0])\n",
    "percentage = value * 100 / total\n",
    "print(f'Total number of entries in Subunit test set {total}')\n",
    "print(f'Fraction of entries where Subunit is better {value}')\n",
    "print(f'The Percentage is as followed {percentage}')"
   ]
  },
  {
   "cell_type": "code",
   "execution_count": null,
   "id": "700edc0c",
   "metadata": {},
   "outputs": [],
   "source": []
  }
 ],
 "metadata": {
  "kernelspec": {
   "display_name": "Python 3 (ipykernel)",
   "language": "python",
   "name": "python3"
  },
  "language_info": {
   "codemirror_mode": {
    "name": "ipython",
    "version": 3
   },
   "file_extension": ".py",
   "mimetype": "text/x-python",
   "name": "python",
   "nbconvert_exporter": "python",
   "pygments_lexer": "ipython3",
   "version": "3.9.12"
  }
 },
 "nbformat": 4,
 "nbformat_minor": 5
}
